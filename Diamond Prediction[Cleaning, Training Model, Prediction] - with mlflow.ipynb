{
 "cells": [
  {
   "cell_type": "code",
   "execution_count": null,
   "metadata": {
    "id": "JVUB3xCXhnIP"
   },
   "outputs": [],
   "source": [
    "import numpy as np\n",
    "import pandas as pd\n",
    "import matplotlib.pyplot as plt\n",
    "import seaborn as sns"
   ]
  },
  {
   "cell_type": "code",
   "execution_count": null,
   "metadata": {
    "id": "trd5-_TTh9bt"
   },
   "outputs": [],
   "source": [
    "df = pd.read_csv('data/diamonds.csv')"
   ]
  },
  {
   "cell_type": "code",
   "execution_count": null,
   "metadata": {
    "colab": {
     "base_uri": "https://localhost:8080/"
    },
    "id": "v8xoFzHFiBX6",
    "outputId": "950d5c07-0fa2-46ca-cc50-d1aa64a0070b"
   },
   "outputs": [],
   "source": [
    "df.shape"
   ]
  },
  {
   "cell_type": "code",
   "execution_count": null,
   "metadata": {
    "colab": {
     "base_uri": "https://localhost:8080/",
     "height": 206
    },
    "id": "JUCOFn2WiJVl",
    "outputId": "7748a65c-66ac-4910-dc25-c7b04fd1f43e"
   },
   "outputs": [],
   "source": [
    "df.head()"
   ]
  },
  {
   "cell_type": "code",
   "execution_count": null,
   "metadata": {
    "colab": {
     "base_uri": "https://localhost:8080/"
    },
    "id": "UCmIyHxoiLKx",
    "outputId": "aa750f41-da25-4400-a791-9999a2b3a302"
   },
   "outputs": [],
   "source": [
    "df.info()"
   ]
  },
  {
   "cell_type": "code",
   "execution_count": null,
   "metadata": {
    "colab": {
     "base_uri": "https://localhost:8080/"
    },
    "id": "iLDT7mTNiN_c",
    "outputId": "4d4a7000-cc0e-4447-e551-7b6559073cdc"
   },
   "outputs": [],
   "source": [
    "df.isnull().sum()"
   ]
  },
  {
   "cell_type": "code",
   "execution_count": null,
   "metadata": {
    "colab": {
     "base_uri": "https://localhost:8080/",
     "height": 269
    },
    "id": "zo0ALya9iYga",
    "outputId": "baa54153-84ef-46c7-e3f8-ed52febe0c1d"
   },
   "outputs": [],
   "source": [
    "df.describe().transpose()"
   ]
  },
  {
   "cell_type": "code",
   "execution_count": null,
   "metadata": {
    "colab": {
     "base_uri": "https://localhost:8080/",
     "height": 206
    },
    "id": "Z6QyjNb7pcpn",
    "outputId": "7440591e-a781-4046-cbca-0f352d72680a"
   },
   "outputs": [],
   "source": [
    "df.head()"
   ]
  },
  {
   "cell_type": "markdown",
   "metadata": {
    "id": "349PXC-4s1YO"
   },
   "source": [
    "### Rearranging Columns"
   ]
  },
  {
   "cell_type": "code",
   "execution_count": null,
   "metadata": {
    "id": "PqHQazbbsc3d"
   },
   "outputs": [],
   "source": [
    "df2 = df.iloc[:,[0,1,2,3,4,5,7,8,9,6]]"
   ]
  },
  {
   "cell_type": "code",
   "execution_count": null,
   "metadata": {
    "colab": {
     "base_uri": "https://localhost:8080/",
     "height": 206
    },
    "id": "0volQ46EsqpH",
    "outputId": "aa7031d0-9d91-4cb6-f5bc-033d109b4f6c"
   },
   "outputs": [],
   "source": [
    "df2.head()"
   ]
  },
  {
   "cell_type": "code",
   "execution_count": null,
   "metadata": {
    "colab": {
     "base_uri": "https://localhost:8080/"
    },
    "id": "vh0NQlwgy7Y9",
    "outputId": "99cf7876-6eb1-4122-d765-9b96bdd53577"
   },
   "outputs": [],
   "source": [
    "df2.shape"
   ]
  },
  {
   "cell_type": "markdown",
   "metadata": {
    "id": "iC6JOY16wTTm"
   },
   "source": [
    "### Checking for Outliers"
   ]
  },
  {
   "cell_type": "code",
   "execution_count": null,
   "metadata": {
    "colab": {
     "base_uri": "https://localhost:8080/"
    },
    "id": "zWFl58U_0Hcm",
    "outputId": "da7d860f-a73a-4eb0-e4bd-594e8cefba0e"
   },
   "outputs": [],
   "source": [
    "col_name = df2.select_dtypes(include=['int','float']).columns\n",
    "\n",
    "\n",
    "for i in col_name:\n",
    "  mean = df2[i].mean()\n",
    "  med =  df2[i].median()\n",
    "  print(f'Mean for {i} is {mean}')\n",
    "  print(f'Median for {i} is {med}')"
   ]
  },
  {
   "cell_type": "code",
   "execution_count": null,
   "metadata": {
    "colab": {
     "base_uri": "https://localhost:8080/",
     "height": 265
    },
    "id": "YY8gQ7rZsvN3",
    "outputId": "9641b95b-56bf-46f3-9cbd-5406727a699f"
   },
   "outputs": [],
   "source": [
    "# before removing outliers\n",
    "plt.boxplot(df2.carat)\n",
    "plt.show()"
   ]
  },
  {
   "cell_type": "code",
   "execution_count": null,
   "metadata": {
    "colab": {
     "base_uri": "https://localhost:8080/",
     "height": 265
    },
    "id": "hE9E93-pIyeZ",
    "outputId": "c4600219-3ba1-4167-de7e-3136b2880ddd"
   },
   "outputs": [],
   "source": [
    "plt.boxplot(df2.depth)\n",
    "plt.show()"
   ]
  },
  {
   "cell_type": "code",
   "execution_count": null,
   "metadata": {
    "colab": {
     "base_uri": "https://localhost:8080/",
     "height": 265
    },
    "id": "v0mltUAFyzaI",
    "outputId": "8d8454a1-b90a-424d-e92b-a761efffee8c"
   },
   "outputs": [],
   "source": [
    "plt.boxplot(df2.table)\n",
    "plt.show()"
   ]
  },
  {
   "cell_type": "code",
   "execution_count": null,
   "metadata": {
    "colab": {
     "base_uri": "https://localhost:8080/",
     "height": 265
    },
    "id": "DGVBYyD6zGNH",
    "outputId": "d0c37b01-365d-4f96-ae54-718120f8263b"
   },
   "outputs": [],
   "source": [
    "plt.boxplot(df2.x)\n",
    "plt.show()"
   ]
  },
  {
   "cell_type": "code",
   "execution_count": null,
   "metadata": {
    "colab": {
     "base_uri": "https://localhost:8080/",
     "height": 265
    },
    "id": "WL5ggmZwzLCr",
    "outputId": "0066c918-9a51-4e16-92a3-f99d4678937d"
   },
   "outputs": [],
   "source": [
    "plt.boxplot(df2.y)\n",
    "plt.show()"
   ]
  },
  {
   "cell_type": "code",
   "execution_count": null,
   "metadata": {
    "colab": {
     "base_uri": "https://localhost:8080/",
     "height": 265
    },
    "id": "cZyVvX3_zM9j",
    "outputId": "ddb9026d-a7a2-447c-9b71-849aa584912d"
   },
   "outputs": [],
   "source": [
    "plt.boxplot(df2.z)\n",
    "plt.show()"
   ]
  },
  {
   "cell_type": "code",
   "execution_count": null,
   "metadata": {
    "colab": {
     "base_uri": "https://localhost:8080/",
     "height": 265
    },
    "id": "VwiFET6IGB_7",
    "outputId": "4d9d7b64-4436-4bcc-dfee-76020dabff81"
   },
   "outputs": [],
   "source": [
    "# after removing outliers\n",
    "plt.boxplot(df2.price)\n",
    "plt.show()"
   ]
  },
  {
   "cell_type": "code",
   "execution_count": null,
   "metadata": {
    "colab": {
     "base_uri": "https://localhost:8080/"
    },
    "id": "SGgHWv34JTAW",
    "outputId": "6f08918e-6d8f-4cee-bc54-fa211d376fa4"
   },
   "outputs": [],
   "source": [
    "df2.shape"
   ]
  },
  {
   "cell_type": "markdown",
   "metadata": {
    "id": "As6jFguPyL0D"
   },
   "source": [
    "### Treating Outliers"
   ]
  },
  {
   "cell_type": "code",
   "execution_count": null,
   "metadata": {
    "id": "vyYO-XjZJHIa"
   },
   "outputs": [],
   "source": [
    "def outliers(col_name):\n",
    "  Q1 = np.percentile(df2[col_name], 25,\n",
    "                   interpolation = 'midpoint')\n",
    " \n",
    "  Q3 = np.percentile(df2[col_name], 75,\n",
    "                   interpolation = 'midpoint')\n",
    "  IQR = Q3 - Q1\n",
    "\n",
    "  upper = Q3+(1.5*IQR)\n",
    "  lower = Q1-(1.5*IQR)\n",
    "\n",
    "  # df2.drop(upper[0], inplace = True)\n",
    "  # df2.drop(lower[0], inplace = True)\n",
    "\n",
    "  # df2.drop(df2[df2[col_name] == upper[0]].index, inplace = True)\n",
    "  # df2.drop(df2[df2[col_name] == lower[0]].index, inplace = True)\n",
    "  # df2.drop[(df2[col_name] > upper) & (df2[col_name] < lower)]\n",
    "  # df2[col_name] = df2[(df2[col_name] < upper) & (df2[col_name] > lower)]\n",
    "  df2.drop(df2[(df2[col_name] > upper) | (df2[col_name] < lower)].index, inplace=True)\n"
   ]
  },
  {
   "cell_type": "code",
   "execution_count": null,
   "metadata": {
    "colab": {
     "base_uri": "https://localhost:8080/"
    },
    "id": "DXE961HnJzcY",
    "outputId": "f872d144-796f-40c9-e036-82c2d86a10e9"
   },
   "outputs": [],
   "source": [
    "outliers('carat')"
   ]
  },
  {
   "cell_type": "code",
   "execution_count": null,
   "metadata": {
    "colab": {
     "base_uri": "https://localhost:8080/",
     "height": 265
    },
    "id": "IR2HD0FUK7HK",
    "outputId": "c111f13e-0dae-42b0-f20f-9233410d2b18"
   },
   "outputs": [],
   "source": [
    "plt.boxplot(df2.carat)\n",
    "plt.show()"
   ]
  },
  {
   "cell_type": "code",
   "execution_count": null,
   "metadata": {
    "colab": {
     "base_uri": "https://localhost:8080/"
    },
    "id": "oz31oBP8sTlW",
    "outputId": "e8f88888-4b49-431f-f463-f13a0457ea3b"
   },
   "outputs": [],
   "source": [
    "df2.shape"
   ]
  },
  {
   "cell_type": "code",
   "execution_count": null,
   "metadata": {
    "colab": {
     "base_uri": "https://localhost:8080/"
    },
    "id": "Phv3JG5Gxj4Y",
    "outputId": "8d82667f-ed8f-418f-c6f9-f74596eb62b6"
   },
   "outputs": [],
   "source": [
    "outliers('depth')"
   ]
  },
  {
   "cell_type": "code",
   "execution_count": null,
   "metadata": {
    "colab": {
     "base_uri": "https://localhost:8080/",
     "height": 265
    },
    "id": "x9nZqZrIyBV5",
    "outputId": "b96654e1-dc5c-4b8b-bfdf-e26f25ed45cb"
   },
   "outputs": [],
   "source": [
    "plt.boxplot(df2.depth)\n",
    "plt.show()"
   ]
  },
  {
   "cell_type": "code",
   "execution_count": null,
   "metadata": {
    "colab": {
     "base_uri": "https://localhost:8080/"
    },
    "id": "oysSSGj9yFEh",
    "outputId": "4b15521f-9471-4777-f812-18e4e2ae963a"
   },
   "outputs": [],
   "source": [
    "outliers('table')"
   ]
  },
  {
   "cell_type": "code",
   "execution_count": null,
   "metadata": {
    "colab": {
     "base_uri": "https://localhost:8080/",
     "height": 268
    },
    "id": "S83LKw7dyZT6",
    "outputId": "9115906c-2148-469a-af38-a2e88af326e6"
   },
   "outputs": [],
   "source": [
    "plt.boxplot(df2.table)\n",
    "plt.show()"
   ]
  },
  {
   "cell_type": "code",
   "execution_count": null,
   "metadata": {
    "colab": {
     "base_uri": "https://localhost:8080/",
     "height": 356
    },
    "id": "ha7vdRDCyeyX",
    "outputId": "f4439941-d895-4b9b-dd4a-4c436ff11913"
   },
   "outputs": [],
   "source": [
    "outliers('x')\n",
    "plt.boxplot(df2.x)\n",
    "plt.show()"
   ]
  },
  {
   "cell_type": "code",
   "execution_count": null,
   "metadata": {
    "colab": {
     "base_uri": "https://localhost:8080/",
     "height": 356
    },
    "id": "H6yWnhavymLU",
    "outputId": "19657e29-0555-4584-c4d3-c347e01eb4d5"
   },
   "outputs": [],
   "source": [
    "outliers('y')\n",
    "plt.boxplot(df2.y)\n",
    "plt.show()"
   ]
  },
  {
   "cell_type": "code",
   "execution_count": null,
   "metadata": {
    "colab": {
     "base_uri": "https://localhost:8080/",
     "height": 356
    },
    "id": "kJ7lw2Xeyqes",
    "outputId": "9a5f4d5f-5981-499a-b216-7908d6688054"
   },
   "outputs": [],
   "source": [
    "outliers('z')\n",
    "plt.boxplot(df2.z)\n",
    "plt.show()"
   ]
  },
  {
   "cell_type": "code",
   "execution_count": null,
   "metadata": {
    "colab": {
     "base_uri": "https://localhost:8080/",
     "height": 356
    },
    "id": "DxocgMht499m",
    "outputId": "1c2fe967-c7b5-4971-c3ca-b9658e072454"
   },
   "outputs": [],
   "source": [
    "outliers('price')\n",
    "plt.boxplot(df2.price)\n",
    "plt.show()"
   ]
  },
  {
   "cell_type": "code",
   "execution_count": null,
   "metadata": {
    "colab": {
     "base_uri": "https://localhost:8080/"
    },
    "id": "Wukm0fDwzDvc",
    "outputId": "c7fa9ede-b388-4ca6-d064-2a566e15b215"
   },
   "outputs": [],
   "source": [
    "df2.shape"
   ]
  },
  {
   "cell_type": "code",
   "execution_count": null,
   "metadata": {
    "colab": {
     "base_uri": "https://localhost:8080/",
     "height": 206
    },
    "id": "3w_2qSL1zMeD",
    "outputId": "6b50041a-21af-499c-e134-9c7ea0e502de"
   },
   "outputs": [],
   "source": [
    "df2.head()"
   ]
  },
  {
   "cell_type": "code",
   "execution_count": null,
   "metadata": {
    "colab": {
     "base_uri": "https://localhost:8080/",
     "height": 279
    },
    "id": "bePKtVsZzRLn",
    "outputId": "9afe88ac-6f57-4b09-c181-f8ca1968a0cd"
   },
   "outputs": [],
   "source": [
    "plt.scatter(df2['carat'],df2['price'])\n",
    "plt.xlabel('Carat')\n",
    "plt.ylabel('Price')\n",
    "plt.show()"
   ]
  },
  {
   "cell_type": "code",
   "execution_count": null,
   "metadata": {
    "colab": {
     "base_uri": "https://localhost:8080/",
     "height": 279
    },
    "id": "d2ZUtdTv0FBj",
    "outputId": "e4980356-df3d-4852-e521-ff1370493f32"
   },
   "outputs": [],
   "source": [
    "plt.scatter(df2['cut'],df2['price'])\n",
    "plt.xlabel('cut')\n",
    "plt.ylabel('Price')\n",
    "plt.show()"
   ]
  },
  {
   "cell_type": "code",
   "execution_count": null,
   "metadata": {
    "colab": {
     "base_uri": "https://localhost:8080/",
     "height": 297
    },
    "id": "P7n_dH-Q1ErP",
    "outputId": "d8a61667-f082-42db-a4fe-b469cdb8e224"
   },
   "outputs": [],
   "source": [
    "sns.histplot(data=df2['carat'],kde=True)"
   ]
  },
  {
   "cell_type": "code",
   "execution_count": null,
   "metadata": {
    "colab": {
     "base_uri": "https://localhost:8080/",
     "height": 297
    },
    "id": "rEC4uEKJ2w2B",
    "outputId": "46ddf459-dbea-45c5-d235-41acced35edd"
   },
   "outputs": [],
   "source": [
    "sns.histplot(data=df2['cut'],kde=True)"
   ]
  },
  {
   "cell_type": "code",
   "execution_count": null,
   "metadata": {
    "colab": {
     "base_uri": "https://localhost:8080/"
    },
    "id": "tDd4pqeo3dZE",
    "outputId": "07db4f23-f6d4-45ea-d559-6b66fd5c3fb9"
   },
   "outputs": [],
   "source": [
    "col_name"
   ]
  },
  {
   "cell_type": "code",
   "execution_count": null,
   "metadata": {
    "colab": {
     "base_uri": "https://localhost:8080/",
     "height": 297
    },
    "id": "0lnFeBEv3nCN",
    "outputId": "36422f1a-61ee-4583-a8bd-8cf304c792ec"
   },
   "outputs": [],
   "source": [
    "sns.histplot(data=df2['table'],kde=True)"
   ]
  },
  {
   "cell_type": "code",
   "execution_count": null,
   "metadata": {
    "colab": {
     "base_uri": "https://localhost:8080/",
     "height": 297
    },
    "id": "oKYcKf_w3qwB",
    "outputId": "74ddf3f5-0403-46c2-a345-bfefb388a8ec"
   },
   "outputs": [],
   "source": [
    "sns.histplot(data=df2['x'],kde=True)"
   ]
  },
  {
   "cell_type": "code",
   "execution_count": null,
   "metadata": {
    "colab": {
     "base_uri": "https://localhost:8080/",
     "height": 297
    },
    "id": "yrExHkiP3sus",
    "outputId": "0b096d40-a9b9-4cbb-8941-7a34afd7ddfa"
   },
   "outputs": [],
   "source": [
    "sns.histplot(data=df2['y'],kde=True)"
   ]
  },
  {
   "cell_type": "code",
   "execution_count": null,
   "metadata": {
    "colab": {
     "base_uri": "https://localhost:8080/",
     "height": 297
    },
    "id": "jChOftFq3uu6",
    "outputId": "23b0ec6a-75e1-47c4-d13f-1c40e122116f"
   },
   "outputs": [],
   "source": [
    "sns.histplot(data=df2['z'],kde=True)"
   ]
  },
  {
   "cell_type": "code",
   "execution_count": null,
   "metadata": {
    "colab": {
     "base_uri": "https://localhost:8080/",
     "height": 297
    },
    "id": "bJx1PsQW3xnc",
    "outputId": "0a22bff9-89a1-4414-b8c5-58565df44234"
   },
   "outputs": [],
   "source": [
    "sns.histplot(data=df2['price'],kde=True)"
   ]
  },
  {
   "cell_type": "code",
   "execution_count": null,
   "metadata": {
    "colab": {
     "base_uri": "https://localhost:8080/",
     "height": 287
    },
    "id": "lQ1bDF-h3z9C",
    "outputId": "19cf61ae-097f-449f-b3e6-518d86d9192a"
   },
   "outputs": [],
   "source": [
    "sns.heatmap(df2.iloc[:,:].corr(),annot=True)"
   ]
  },
  {
   "cell_type": "markdown",
   "metadata": {
    "id": "_L9HBGoQ4PJH"
   },
   "source": [
    "We Can see Price column have strong corelation with carat,x,y and z columns."
   ]
  },
  {
   "cell_type": "code",
   "execution_count": null,
   "metadata": {
    "colab": {
     "base_uri": "https://localhost:8080/",
     "height": 206
    },
    "id": "0zLrg4P34FmY",
    "outputId": "80be33b6-6be1-4efa-da52-cc96f4ddbce0"
   },
   "outputs": [],
   "source": [
    "df2.head()"
   ]
  },
  {
   "cell_type": "code",
   "execution_count": null,
   "metadata": {
    "colab": {
     "base_uri": "https://localhost:8080/"
    },
    "id": "ZKEKcvFf4cIb",
    "outputId": "66f168d5-ea46-4417-9fa3-9dc8b0e5c72b"
   },
   "outputs": [],
   "source": [
    "df2.price.max()"
   ]
  },
  {
   "cell_type": "code",
   "execution_count": null,
   "metadata": {
    "colab": {
     "base_uri": "https://localhost:8080/",
     "height": 300
    },
    "id": "dXUXlt3D4zcS",
    "outputId": "264bd406-71fe-4905-fc10-b104e03ded4f"
   },
   "outputs": [],
   "source": [
    "df2.describe()"
   ]
  },
  {
   "cell_type": "markdown",
   "metadata": {
    "id": "hIqha2MfVpo9"
   },
   "source": [
    "# KNN Algorithm from Scratch"
   ]
  },
  {
   "cell_type": "markdown",
   "metadata": {
    "id": "uEwxNTTe61ww"
   },
   "source": [
    "###Splitting Data into Train Test"
   ]
  },
  {
   "cell_type": "code",
   "execution_count": 49,
   "metadata": {
    "id": "RKD6BUzg42d1"
   },
   "outputs": [],
   "source": [
    "from sklearn.model_selection import train_test_split"
   ]
  },
  {
   "cell_type": "code",
   "execution_count": 50,
   "metadata": {
    "colab": {
     "base_uri": "https://localhost:8080/",
     "height": 206
    },
    "id": "z4SMH78el1dR",
    "outputId": "29b26f0a-cdc2-4a1f-8f7a-6270e563b992"
   },
   "outputs": [
    {
     "data": {
      "text/html": [
       "<div>\n",
       "<style scoped>\n",
       "    .dataframe tbody tr th:only-of-type {\n",
       "        vertical-align: middle;\n",
       "    }\n",
       "\n",
       "    .dataframe tbody tr th {\n",
       "        vertical-align: top;\n",
       "    }\n",
       "\n",
       "    .dataframe thead th {\n",
       "        text-align: right;\n",
       "    }\n",
       "</style>\n",
       "<table border=\"1\" class=\"dataframe\">\n",
       "  <thead>\n",
       "    <tr style=\"text-align: right;\">\n",
       "      <th></th>\n",
       "      <th>carat</th>\n",
       "      <th>cut</th>\n",
       "      <th>color</th>\n",
       "      <th>clarity</th>\n",
       "      <th>depth</th>\n",
       "      <th>table</th>\n",
       "      <th>x</th>\n",
       "      <th>y</th>\n",
       "      <th>z</th>\n",
       "      <th>price</th>\n",
       "    </tr>\n",
       "  </thead>\n",
       "  <tbody>\n",
       "    <tr>\n",
       "      <th>0</th>\n",
       "      <td>0.23</td>\n",
       "      <td>Ideal</td>\n",
       "      <td>E</td>\n",
       "      <td>SI2</td>\n",
       "      <td>61.5</td>\n",
       "      <td>55.0</td>\n",
       "      <td>3.95</td>\n",
       "      <td>3.98</td>\n",
       "      <td>2.43</td>\n",
       "      <td>326</td>\n",
       "    </tr>\n",
       "    <tr>\n",
       "      <th>1</th>\n",
       "      <td>0.21</td>\n",
       "      <td>Premium</td>\n",
       "      <td>E</td>\n",
       "      <td>SI1</td>\n",
       "      <td>59.8</td>\n",
       "      <td>61.0</td>\n",
       "      <td>3.89</td>\n",
       "      <td>3.84</td>\n",
       "      <td>2.31</td>\n",
       "      <td>326</td>\n",
       "    </tr>\n",
       "    <tr>\n",
       "      <th>3</th>\n",
       "      <td>0.29</td>\n",
       "      <td>Premium</td>\n",
       "      <td>I</td>\n",
       "      <td>VS2</td>\n",
       "      <td>62.4</td>\n",
       "      <td>58.0</td>\n",
       "      <td>4.20</td>\n",
       "      <td>4.23</td>\n",
       "      <td>2.63</td>\n",
       "      <td>334</td>\n",
       "    </tr>\n",
       "    <tr>\n",
       "      <th>4</th>\n",
       "      <td>0.31</td>\n",
       "      <td>Good</td>\n",
       "      <td>J</td>\n",
       "      <td>SI2</td>\n",
       "      <td>63.3</td>\n",
       "      <td>58.0</td>\n",
       "      <td>4.34</td>\n",
       "      <td>4.35</td>\n",
       "      <td>2.75</td>\n",
       "      <td>335</td>\n",
       "    </tr>\n",
       "    <tr>\n",
       "      <th>5</th>\n",
       "      <td>0.24</td>\n",
       "      <td>Very Good</td>\n",
       "      <td>J</td>\n",
       "      <td>VVS2</td>\n",
       "      <td>62.8</td>\n",
       "      <td>57.0</td>\n",
       "      <td>3.94</td>\n",
       "      <td>3.96</td>\n",
       "      <td>2.48</td>\n",
       "      <td>336</td>\n",
       "    </tr>\n",
       "  </tbody>\n",
       "</table>\n",
       "</div>"
      ],
      "text/plain": [
       "   carat        cut color clarity  depth  table     x     y     z  price\n",
       "0   0.23      Ideal     E     SI2   61.5   55.0  3.95  3.98  2.43    326\n",
       "1   0.21    Premium     E     SI1   59.8   61.0  3.89  3.84  2.31    326\n",
       "3   0.29    Premium     I     VS2   62.4   58.0  4.20  4.23  2.63    334\n",
       "4   0.31       Good     J     SI2   63.3   58.0  4.34  4.35  2.75    335\n",
       "5   0.24  Very Good     J    VVS2   62.8   57.0  3.94  3.96  2.48    336"
      ]
     },
     "execution_count": 50,
     "metadata": {},
     "output_type": "execute_result"
    }
   ],
   "source": [
    "df2.head()"
   ]
  },
  {
   "cell_type": "code",
   "execution_count": 51,
   "metadata": {
    "id": "XukKy5hn67Nf"
   },
   "outputs": [],
   "source": [
    "X = df2.iloc[:,:9]"
   ]
  },
  {
   "cell_type": "code",
   "execution_count": 52,
   "metadata": {
    "colab": {
     "base_uri": "https://localhost:8080/",
     "height": 424
    },
    "id": "tCs4nwMJl5Bo",
    "outputId": "df9a0178-8d6f-42f0-f1e8-d02d0d480ab4"
   },
   "outputs": [
    {
     "data": {
      "text/html": [
       "<div>\n",
       "<style scoped>\n",
       "    .dataframe tbody tr th:only-of-type {\n",
       "        vertical-align: middle;\n",
       "    }\n",
       "\n",
       "    .dataframe tbody tr th {\n",
       "        vertical-align: top;\n",
       "    }\n",
       "\n",
       "    .dataframe thead th {\n",
       "        text-align: right;\n",
       "    }\n",
       "</style>\n",
       "<table border=\"1\" class=\"dataframe\">\n",
       "  <thead>\n",
       "    <tr style=\"text-align: right;\">\n",
       "      <th></th>\n",
       "      <th>carat</th>\n",
       "      <th>cut</th>\n",
       "      <th>color</th>\n",
       "      <th>clarity</th>\n",
       "      <th>depth</th>\n",
       "      <th>table</th>\n",
       "      <th>x</th>\n",
       "      <th>y</th>\n",
       "      <th>z</th>\n",
       "    </tr>\n",
       "  </thead>\n",
       "  <tbody>\n",
       "    <tr>\n",
       "      <th>0</th>\n",
       "      <td>0.23</td>\n",
       "      <td>Ideal</td>\n",
       "      <td>E</td>\n",
       "      <td>SI2</td>\n",
       "      <td>61.5</td>\n",
       "      <td>55.0</td>\n",
       "      <td>3.95</td>\n",
       "      <td>3.98</td>\n",
       "      <td>2.43</td>\n",
       "    </tr>\n",
       "    <tr>\n",
       "      <th>1</th>\n",
       "      <td>0.21</td>\n",
       "      <td>Premium</td>\n",
       "      <td>E</td>\n",
       "      <td>SI1</td>\n",
       "      <td>59.8</td>\n",
       "      <td>61.0</td>\n",
       "      <td>3.89</td>\n",
       "      <td>3.84</td>\n",
       "      <td>2.31</td>\n",
       "    </tr>\n",
       "    <tr>\n",
       "      <th>3</th>\n",
       "      <td>0.29</td>\n",
       "      <td>Premium</td>\n",
       "      <td>I</td>\n",
       "      <td>VS2</td>\n",
       "      <td>62.4</td>\n",
       "      <td>58.0</td>\n",
       "      <td>4.20</td>\n",
       "      <td>4.23</td>\n",
       "      <td>2.63</td>\n",
       "    </tr>\n",
       "    <tr>\n",
       "      <th>4</th>\n",
       "      <td>0.31</td>\n",
       "      <td>Good</td>\n",
       "      <td>J</td>\n",
       "      <td>SI2</td>\n",
       "      <td>63.3</td>\n",
       "      <td>58.0</td>\n",
       "      <td>4.34</td>\n",
       "      <td>4.35</td>\n",
       "      <td>2.75</td>\n",
       "    </tr>\n",
       "    <tr>\n",
       "      <th>5</th>\n",
       "      <td>0.24</td>\n",
       "      <td>Very Good</td>\n",
       "      <td>J</td>\n",
       "      <td>VVS2</td>\n",
       "      <td>62.8</td>\n",
       "      <td>57.0</td>\n",
       "      <td>3.94</td>\n",
       "      <td>3.96</td>\n",
       "      <td>2.48</td>\n",
       "    </tr>\n",
       "    <tr>\n",
       "      <th>...</th>\n",
       "      <td>...</td>\n",
       "      <td>...</td>\n",
       "      <td>...</td>\n",
       "      <td>...</td>\n",
       "      <td>...</td>\n",
       "      <td>...</td>\n",
       "      <td>...</td>\n",
       "      <td>...</td>\n",
       "      <td>...</td>\n",
       "    </tr>\n",
       "    <tr>\n",
       "      <th>53935</th>\n",
       "      <td>0.72</td>\n",
       "      <td>Ideal</td>\n",
       "      <td>D</td>\n",
       "      <td>SI1</td>\n",
       "      <td>60.8</td>\n",
       "      <td>57.0</td>\n",
       "      <td>5.75</td>\n",
       "      <td>5.76</td>\n",
       "      <td>3.50</td>\n",
       "    </tr>\n",
       "    <tr>\n",
       "      <th>53936</th>\n",
       "      <td>0.72</td>\n",
       "      <td>Good</td>\n",
       "      <td>D</td>\n",
       "      <td>SI1</td>\n",
       "      <td>63.1</td>\n",
       "      <td>55.0</td>\n",
       "      <td>5.69</td>\n",
       "      <td>5.75</td>\n",
       "      <td>3.61</td>\n",
       "    </tr>\n",
       "    <tr>\n",
       "      <th>53937</th>\n",
       "      <td>0.70</td>\n",
       "      <td>Very Good</td>\n",
       "      <td>D</td>\n",
       "      <td>SI1</td>\n",
       "      <td>62.8</td>\n",
       "      <td>60.0</td>\n",
       "      <td>5.66</td>\n",
       "      <td>5.68</td>\n",
       "      <td>3.56</td>\n",
       "    </tr>\n",
       "    <tr>\n",
       "      <th>53938</th>\n",
       "      <td>0.86</td>\n",
       "      <td>Premium</td>\n",
       "      <td>H</td>\n",
       "      <td>SI2</td>\n",
       "      <td>61.0</td>\n",
       "      <td>58.0</td>\n",
       "      <td>6.15</td>\n",
       "      <td>6.12</td>\n",
       "      <td>3.74</td>\n",
       "    </tr>\n",
       "    <tr>\n",
       "      <th>53939</th>\n",
       "      <td>0.75</td>\n",
       "      <td>Ideal</td>\n",
       "      <td>D</td>\n",
       "      <td>SI2</td>\n",
       "      <td>62.2</td>\n",
       "      <td>55.0</td>\n",
       "      <td>5.83</td>\n",
       "      <td>5.87</td>\n",
       "      <td>3.64</td>\n",
       "    </tr>\n",
       "  </tbody>\n",
       "</table>\n",
       "<p>46530 rows × 9 columns</p>\n",
       "</div>"
      ],
      "text/plain": [
       "       carat        cut color clarity  depth  table     x     y     z\n",
       "0       0.23      Ideal     E     SI2   61.5   55.0  3.95  3.98  2.43\n",
       "1       0.21    Premium     E     SI1   59.8   61.0  3.89  3.84  2.31\n",
       "3       0.29    Premium     I     VS2   62.4   58.0  4.20  4.23  2.63\n",
       "4       0.31       Good     J     SI2   63.3   58.0  4.34  4.35  2.75\n",
       "5       0.24  Very Good     J    VVS2   62.8   57.0  3.94  3.96  2.48\n",
       "...      ...        ...   ...     ...    ...    ...   ...   ...   ...\n",
       "53935   0.72      Ideal     D     SI1   60.8   57.0  5.75  5.76  3.50\n",
       "53936   0.72       Good     D     SI1   63.1   55.0  5.69  5.75  3.61\n",
       "53937   0.70  Very Good     D     SI1   62.8   60.0  5.66  5.68  3.56\n",
       "53938   0.86    Premium     H     SI2   61.0   58.0  6.15  6.12  3.74\n",
       "53939   0.75      Ideal     D     SI2   62.2   55.0  5.83  5.87  3.64\n",
       "\n",
       "[46530 rows x 9 columns]"
      ]
     },
     "execution_count": 52,
     "metadata": {},
     "output_type": "execute_result"
    }
   ],
   "source": [
    "X"
   ]
  },
  {
   "cell_type": "code",
   "execution_count": 53,
   "metadata": {
    "id": "ehoQWl1El8Yo"
   },
   "outputs": [],
   "source": [
    "y = df2['price']"
   ]
  },
  {
   "cell_type": "code",
   "execution_count": 54,
   "metadata": {
    "colab": {
     "base_uri": "https://localhost:8080/"
    },
    "id": "ER85eLxQmc4p",
    "outputId": "82858ba3-c6d5-4ea4-e349-1ae8c1775dea"
   },
   "outputs": [
    {
     "data": {
      "text/plain": [
       "0         326\n",
       "1         326\n",
       "3         334\n",
       "4         335\n",
       "5         336\n",
       "         ... \n",
       "53935    2757\n",
       "53936    2757\n",
       "53937    2757\n",
       "53938    2757\n",
       "53939    2757\n",
       "Name: price, Length: 46530, dtype: int64"
      ]
     },
     "execution_count": 54,
     "metadata": {},
     "output_type": "execute_result"
    }
   ],
   "source": [
    "y"
   ]
  },
  {
   "cell_type": "code",
   "execution_count": 55,
   "metadata": {
    "colab": {
     "base_uri": "https://localhost:8080/"
    },
    "id": "ZFl0VnD8meJs",
    "outputId": "dd5d0a31-a389-45e0-d0a7-c58a7d84541d"
   },
   "outputs": [
    {
     "data": {
      "text/plain": [
       "(46530, 9)"
      ]
     },
     "execution_count": 55,
     "metadata": {},
     "output_type": "execute_result"
    }
   ],
   "source": [
    "X.shape"
   ]
  },
  {
   "cell_type": "code",
   "execution_count": 56,
   "metadata": {
    "colab": {
     "base_uri": "https://localhost:8080/"
    },
    "id": "9HiFWoD3nduu",
    "outputId": "60eb2cb4-c979-48ad-9d05-ec4b23c40a7b"
   },
   "outputs": [
    {
     "data": {
      "text/plain": [
       "(46530,)"
      ]
     },
     "execution_count": 56,
     "metadata": {},
     "output_type": "execute_result"
    }
   ],
   "source": [
    "y.shape"
   ]
  },
  {
   "cell_type": "markdown",
   "metadata": {},
   "source": [
    "### Spliting Data"
   ]
  },
  {
   "cell_type": "code",
   "execution_count": 57,
   "metadata": {
    "id": "BzoakAJKnfCK"
   },
   "outputs": [],
   "source": [
    "X_train, X_test, y_train, y_test = train_test_split(X, y, test_size = 0.25)"
   ]
  },
  {
   "cell_type": "code",
   "execution_count": 58,
   "metadata": {
    "colab": {
     "base_uri": "https://localhost:8080/"
    },
    "id": "Y8JWOJwrRzbI",
    "outputId": "eef27f2d-99a5-4bde-9b8e-65657732f355"
   },
   "outputs": [
    {
     "data": {
      "text/plain": [
       "((34897, 9), (11633, 9), (34897,), (11633,))"
      ]
     },
     "execution_count": 58,
     "metadata": {},
     "output_type": "execute_result"
    }
   ],
   "source": [
    "X_train.shape ,X_test.shape, y_train.shape, y_test.shape"
   ]
  },
  {
   "cell_type": "code",
   "execution_count": 59,
   "metadata": {},
   "outputs": [
    {
     "data": {
      "text/html": [
       "<div>\n",
       "<style scoped>\n",
       "    .dataframe tbody tr th:only-of-type {\n",
       "        vertical-align: middle;\n",
       "    }\n",
       "\n",
       "    .dataframe tbody tr th {\n",
       "        vertical-align: top;\n",
       "    }\n",
       "\n",
       "    .dataframe thead th {\n",
       "        text-align: right;\n",
       "    }\n",
       "</style>\n",
       "<table border=\"1\" class=\"dataframe\">\n",
       "  <thead>\n",
       "    <tr style=\"text-align: right;\">\n",
       "      <th></th>\n",
       "      <th>cut</th>\n",
       "      <th>color</th>\n",
       "      <th>clarity</th>\n",
       "    </tr>\n",
       "  </thead>\n",
       "  <tbody>\n",
       "    <tr>\n",
       "      <th>47832</th>\n",
       "      <td>Ideal</td>\n",
       "      <td>G</td>\n",
       "      <td>VVS2</td>\n",
       "    </tr>\n",
       "    <tr>\n",
       "      <th>33879</th>\n",
       "      <td>Premium</td>\n",
       "      <td>E</td>\n",
       "      <td>VS2</td>\n",
       "    </tr>\n",
       "    <tr>\n",
       "      <th>31586</th>\n",
       "      <td>Premium</td>\n",
       "      <td>E</td>\n",
       "      <td>VS2</td>\n",
       "    </tr>\n",
       "    <tr>\n",
       "      <th>6385</th>\n",
       "      <td>Premium</td>\n",
       "      <td>E</td>\n",
       "      <td>VVS2</td>\n",
       "    </tr>\n",
       "    <tr>\n",
       "      <th>12121</th>\n",
       "      <td>Premium</td>\n",
       "      <td>G</td>\n",
       "      <td>SI2</td>\n",
       "    </tr>\n",
       "  </tbody>\n",
       "</table>\n",
       "</div>"
      ],
      "text/plain": [
       "           cut color clarity\n",
       "47832    Ideal     G    VVS2\n",
       "33879  Premium     E     VS2\n",
       "31586  Premium     E     VS2\n",
       "6385   Premium     E    VVS2\n",
       "12121  Premium     G     SI2"
      ]
     },
     "execution_count": 59,
     "metadata": {},
     "output_type": "execute_result"
    }
   ],
   "source": [
    "X_train_cat = X_train.select_dtypes(include=['object'])\n",
    "\n",
    "X_train_cat.head()"
   ]
  },
  {
   "cell_type": "markdown",
   "metadata": {},
   "source": [
    "### Ordinal Encoder for categorical features\n"
   ]
  },
  {
   "cell_type": "code",
   "execution_count": 60,
   "metadata": {},
   "outputs": [],
   "source": [
    "from sklearn.preprocessing import OrdinalEncoder\n",
    "enc = OrdinalEncoder()"
   ]
  },
  {
   "cell_type": "code",
   "execution_count": 61,
   "metadata": {},
   "outputs": [
    {
     "data": {
      "text/html": [
       "<div>\n",
       "<style scoped>\n",
       "    .dataframe tbody tr th:only-of-type {\n",
       "        vertical-align: middle;\n",
       "    }\n",
       "\n",
       "    .dataframe tbody tr th {\n",
       "        vertical-align: top;\n",
       "    }\n",
       "\n",
       "    .dataframe thead th {\n",
       "        text-align: right;\n",
       "    }\n",
       "</style>\n",
       "<table border=\"1\" class=\"dataframe\">\n",
       "  <thead>\n",
       "    <tr style=\"text-align: right;\">\n",
       "      <th></th>\n",
       "      <th>cut</th>\n",
       "      <th>color</th>\n",
       "      <th>clarity</th>\n",
       "    </tr>\n",
       "  </thead>\n",
       "  <tbody>\n",
       "    <tr>\n",
       "      <th>47832</th>\n",
       "      <td>2.0</td>\n",
       "      <td>3.0</td>\n",
       "      <td>7.0</td>\n",
       "    </tr>\n",
       "    <tr>\n",
       "      <th>33879</th>\n",
       "      <td>3.0</td>\n",
       "      <td>1.0</td>\n",
       "      <td>5.0</td>\n",
       "    </tr>\n",
       "    <tr>\n",
       "      <th>31586</th>\n",
       "      <td>3.0</td>\n",
       "      <td>1.0</td>\n",
       "      <td>5.0</td>\n",
       "    </tr>\n",
       "    <tr>\n",
       "      <th>6385</th>\n",
       "      <td>3.0</td>\n",
       "      <td>1.0</td>\n",
       "      <td>7.0</td>\n",
       "    </tr>\n",
       "    <tr>\n",
       "      <th>12121</th>\n",
       "      <td>3.0</td>\n",
       "      <td>3.0</td>\n",
       "      <td>3.0</td>\n",
       "    </tr>\n",
       "    <tr>\n",
       "      <th>...</th>\n",
       "      <td>...</td>\n",
       "      <td>...</td>\n",
       "      <td>...</td>\n",
       "    </tr>\n",
       "    <tr>\n",
       "      <th>31566</th>\n",
       "      <td>2.0</td>\n",
       "      <td>0.0</td>\n",
       "      <td>7.0</td>\n",
       "    </tr>\n",
       "    <tr>\n",
       "      <th>52051</th>\n",
       "      <td>1.0</td>\n",
       "      <td>5.0</td>\n",
       "      <td>4.0</td>\n",
       "    </tr>\n",
       "    <tr>\n",
       "      <th>36146</th>\n",
       "      <td>2.0</td>\n",
       "      <td>1.0</td>\n",
       "      <td>5.0</td>\n",
       "    </tr>\n",
       "    <tr>\n",
       "      <th>34892</th>\n",
       "      <td>2.0</td>\n",
       "      <td>0.0</td>\n",
       "      <td>5.0</td>\n",
       "    </tr>\n",
       "    <tr>\n",
       "      <th>42482</th>\n",
       "      <td>1.0</td>\n",
       "      <td>2.0</td>\n",
       "      <td>2.0</td>\n",
       "    </tr>\n",
       "  </tbody>\n",
       "</table>\n",
       "<p>34897 rows × 3 columns</p>\n",
       "</div>"
      ],
      "text/plain": [
       "       cut  color  clarity\n",
       "47832  2.0    3.0      7.0\n",
       "33879  3.0    1.0      5.0\n",
       "31586  3.0    1.0      5.0\n",
       "6385   3.0    1.0      7.0\n",
       "12121  3.0    3.0      3.0\n",
       "...    ...    ...      ...\n",
       "31566  2.0    0.0      7.0\n",
       "52051  1.0    5.0      4.0\n",
       "36146  2.0    1.0      5.0\n",
       "34892  2.0    0.0      5.0\n",
       "42482  1.0    2.0      2.0\n",
       "\n",
       "[34897 rows x 3 columns]"
      ]
     },
     "execution_count": 61,
     "metadata": {},
     "output_type": "execute_result"
    }
   ],
   "source": [
    "X_train_catg = pd.DataFrame(enc.fit_transform(X_train_cat), \n",
    "                                    columns = X_train_cat.columns, \n",
    "                                    index = X_train_cat.index)\n",
    "X_train_catg"
   ]
  },
  {
   "cell_type": "code",
   "execution_count": 62,
   "metadata": {},
   "outputs": [
    {
     "data": {
      "text/plain": [
       "cut        0\n",
       "color      0\n",
       "clarity    0\n",
       "dtype: int64"
      ]
     },
     "execution_count": 62,
     "metadata": {},
     "output_type": "execute_result"
    }
   ],
   "source": [
    "X_train_catg.isnull().sum()"
   ]
  },
  {
   "cell_type": "code",
   "execution_count": 63,
   "metadata": {},
   "outputs": [
    {
     "data": {
      "text/html": [
       "<div>\n",
       "<style scoped>\n",
       "    .dataframe tbody tr th:only-of-type {\n",
       "        vertical-align: middle;\n",
       "    }\n",
       "\n",
       "    .dataframe tbody tr th {\n",
       "        vertical-align: top;\n",
       "    }\n",
       "\n",
       "    .dataframe thead th {\n",
       "        text-align: right;\n",
       "    }\n",
       "</style>\n",
       "<table border=\"1\" class=\"dataframe\">\n",
       "  <thead>\n",
       "    <tr style=\"text-align: right;\">\n",
       "      <th></th>\n",
       "      <th>carat</th>\n",
       "      <th>depth</th>\n",
       "      <th>table</th>\n",
       "      <th>x</th>\n",
       "      <th>y</th>\n",
       "      <th>z</th>\n",
       "    </tr>\n",
       "  </thead>\n",
       "  <tbody>\n",
       "    <tr>\n",
       "      <th>47832</th>\n",
       "      <td>0.52</td>\n",
       "      <td>62.2</td>\n",
       "      <td>56.0</td>\n",
       "      <td>5.13</td>\n",
       "      <td>5.16</td>\n",
       "      <td>3.20</td>\n",
       "    </tr>\n",
       "    <tr>\n",
       "      <th>33879</th>\n",
       "      <td>0.30</td>\n",
       "      <td>60.7</td>\n",
       "      <td>59.0</td>\n",
       "      <td>4.33</td>\n",
       "      <td>4.30</td>\n",
       "      <td>2.62</td>\n",
       "    </tr>\n",
       "    <tr>\n",
       "      <th>31586</th>\n",
       "      <td>0.35</td>\n",
       "      <td>59.2</td>\n",
       "      <td>58.0</td>\n",
       "      <td>4.59</td>\n",
       "      <td>4.63</td>\n",
       "      <td>2.73</td>\n",
       "    </tr>\n",
       "    <tr>\n",
       "      <th>6385</th>\n",
       "      <td>0.25</td>\n",
       "      <td>62.5</td>\n",
       "      <td>59.0</td>\n",
       "      <td>4.02</td>\n",
       "      <td>4.04</td>\n",
       "      <td>2.52</td>\n",
       "    </tr>\n",
       "    <tr>\n",
       "      <th>12121</th>\n",
       "      <td>1.35</td>\n",
       "      <td>60.5</td>\n",
       "      <td>60.0</td>\n",
       "      <td>7.16</td>\n",
       "      <td>7.11</td>\n",
       "      <td>4.32</td>\n",
       "    </tr>\n",
       "  </tbody>\n",
       "</table>\n",
       "</div>"
      ],
      "text/plain": [
       "       carat  depth  table     x     y     z\n",
       "47832   0.52   62.2   56.0  5.13  5.16  3.20\n",
       "33879   0.30   60.7   59.0  4.33  4.30  2.62\n",
       "31586   0.35   59.2   58.0  4.59  4.63  2.73\n",
       "6385    0.25   62.5   59.0  4.02  4.04  2.52\n",
       "12121   1.35   60.5   60.0  7.16  7.11  4.32"
      ]
     },
     "execution_count": 63,
     "metadata": {},
     "output_type": "execute_result"
    }
   ],
   "source": [
    "X_train_num = X_train.select_dtypes(include=['int64', 'float64'])\n",
    "\n",
    "X_train_num.head()"
   ]
  },
  {
   "cell_type": "markdown",
   "metadata": {},
   "source": [
    "### Standard scaler for Numerical Columns"
   ]
  },
  {
   "cell_type": "code",
   "execution_count": 64,
   "metadata": {},
   "outputs": [],
   "source": [
    "from sklearn.preprocessing import StandardScaler\n",
    "\n",
    "scaler = StandardScaler()\n",
    "\n",
    "\n",
    "X_train_no = pd.DataFrame(scaler.fit_transform(X_train_num), \n",
    "                                    columns = X_train_num.columns, \n",
    "                                    index = X_train_num.index)"
   ]
  },
  {
   "cell_type": "markdown",
   "metadata": {},
   "source": [
    "### Concantenating Dataframe/Columns"
   ]
  },
  {
   "cell_type": "code",
   "execution_count": 65,
   "metadata": {},
   "outputs": [
    {
     "data": {
      "text/html": [
       "<div>\n",
       "<style scoped>\n",
       "    .dataframe tbody tr th:only-of-type {\n",
       "        vertical-align: middle;\n",
       "    }\n",
       "\n",
       "    .dataframe tbody tr th {\n",
       "        vertical-align: top;\n",
       "    }\n",
       "\n",
       "    .dataframe thead th {\n",
       "        text-align: right;\n",
       "    }\n",
       "</style>\n",
       "<table border=\"1\" class=\"dataframe\">\n",
       "  <thead>\n",
       "    <tr style=\"text-align: right;\">\n",
       "      <th></th>\n",
       "      <th>cut</th>\n",
       "      <th>color</th>\n",
       "      <th>clarity</th>\n",
       "      <th>carat</th>\n",
       "      <th>depth</th>\n",
       "      <th>table</th>\n",
       "      <th>x</th>\n",
       "      <th>y</th>\n",
       "      <th>z</th>\n",
       "    </tr>\n",
       "  </thead>\n",
       "  <tbody>\n",
       "    <tr>\n",
       "      <th>47832</th>\n",
       "      <td>2.0</td>\n",
       "      <td>3.0</td>\n",
       "      <td>7.0</td>\n",
       "      <td>-0.491004</td>\n",
       "      <td>0.363849</td>\n",
       "      <td>-0.616883</td>\n",
       "      <td>-0.404926</td>\n",
       "      <td>-0.381295</td>\n",
       "      <td>-0.357390</td>\n",
       "    </tr>\n",
       "    <tr>\n",
       "      <th>33879</th>\n",
       "      <td>3.0</td>\n",
       "      <td>1.0</td>\n",
       "      <td>5.0</td>\n",
       "      <td>-1.098495</td>\n",
       "      <td>-1.028555</td>\n",
       "      <td>0.873124</td>\n",
       "      <td>-1.234161</td>\n",
       "      <td>-1.278129</td>\n",
       "      <td>-1.328144</td>\n",
       "    </tr>\n",
       "    <tr>\n",
       "      <th>31586</th>\n",
       "      <td>3.0</td>\n",
       "      <td>1.0</td>\n",
       "      <td>5.0</td>\n",
       "      <td>-0.960429</td>\n",
       "      <td>-2.420958</td>\n",
       "      <td>0.376455</td>\n",
       "      <td>-0.964659</td>\n",
       "      <td>-0.933995</td>\n",
       "      <td>-1.144036</td>\n",
       "    </tr>\n",
       "    <tr>\n",
       "      <th>6385</th>\n",
       "      <td>3.0</td>\n",
       "      <td>1.0</td>\n",
       "      <td>7.0</td>\n",
       "      <td>-1.236561</td>\n",
       "      <td>0.642330</td>\n",
       "      <td>0.873124</td>\n",
       "      <td>-1.555489</td>\n",
       "      <td>-1.549265</td>\n",
       "      <td>-1.495516</td>\n",
       "    </tr>\n",
       "    <tr>\n",
       "      <th>12121</th>\n",
       "      <td>3.0</td>\n",
       "      <td>3.0</td>\n",
       "      <td>3.0</td>\n",
       "      <td>1.800892</td>\n",
       "      <td>-1.214209</td>\n",
       "      <td>1.369793</td>\n",
       "      <td>1.699255</td>\n",
       "      <td>1.652225</td>\n",
       "      <td>1.517169</td>\n",
       "    </tr>\n",
       "  </tbody>\n",
       "</table>\n",
       "</div>"
      ],
      "text/plain": [
       "       cut  color  clarity     carat     depth     table         x         y  \\\n",
       "47832  2.0    3.0      7.0 -0.491004  0.363849 -0.616883 -0.404926 -0.381295   \n",
       "33879  3.0    1.0      5.0 -1.098495 -1.028555  0.873124 -1.234161 -1.278129   \n",
       "31586  3.0    1.0      5.0 -0.960429 -2.420958  0.376455 -0.964659 -0.933995   \n",
       "6385   3.0    1.0      7.0 -1.236561  0.642330  0.873124 -1.555489 -1.549265   \n",
       "12121  3.0    3.0      3.0  1.800892 -1.214209  1.369793  1.699255  1.652225   \n",
       "\n",
       "              z  \n",
       "47832 -0.357390  \n",
       "33879 -1.328144  \n",
       "31586 -1.144036  \n",
       "6385  -1.495516  \n",
       "12121  1.517169  "
      ]
     },
     "execution_count": 65,
     "metadata": {},
     "output_type": "execute_result"
    }
   ],
   "source": [
    "X_train_rescaled = pd.concat([X_train_catg,X_train_no], axis=1)\n",
    "\n",
    "X_train_rescaled.head()"
   ]
  },
  {
   "cell_type": "markdown",
   "metadata": {},
   "source": [
    "### Preparing Test Data"
   ]
  },
  {
   "cell_type": "code",
   "execution_count": 66,
   "metadata": {},
   "outputs": [
    {
     "data": {
      "text/html": [
       "<div>\n",
       "<style scoped>\n",
       "    .dataframe tbody tr th:only-of-type {\n",
       "        vertical-align: middle;\n",
       "    }\n",
       "\n",
       "    .dataframe tbody tr th {\n",
       "        vertical-align: top;\n",
       "    }\n",
       "\n",
       "    .dataframe thead th {\n",
       "        text-align: right;\n",
       "    }\n",
       "</style>\n",
       "<table border=\"1\" class=\"dataframe\">\n",
       "  <thead>\n",
       "    <tr style=\"text-align: right;\">\n",
       "      <th></th>\n",
       "      <th>cut</th>\n",
       "      <th>color</th>\n",
       "      <th>clarity</th>\n",
       "    </tr>\n",
       "  </thead>\n",
       "  <tbody>\n",
       "    <tr>\n",
       "      <th>12983</th>\n",
       "      <td>Ideal</td>\n",
       "      <td>G</td>\n",
       "      <td>SI2</td>\n",
       "    </tr>\n",
       "    <tr>\n",
       "      <th>7945</th>\n",
       "      <td>Ideal</td>\n",
       "      <td>H</td>\n",
       "      <td>SI2</td>\n",
       "    </tr>\n",
       "    <tr>\n",
       "      <th>39341</th>\n",
       "      <td>Good</td>\n",
       "      <td>H</td>\n",
       "      <td>SI1</td>\n",
       "    </tr>\n",
       "    <tr>\n",
       "      <th>47409</th>\n",
       "      <td>Good</td>\n",
       "      <td>G</td>\n",
       "      <td>VS2</td>\n",
       "    </tr>\n",
       "    <tr>\n",
       "      <th>48664</th>\n",
       "      <td>Ideal</td>\n",
       "      <td>G</td>\n",
       "      <td>VVS1</td>\n",
       "    </tr>\n",
       "  </tbody>\n",
       "</table>\n",
       "</div>"
      ],
      "text/plain": [
       "         cut color clarity\n",
       "12983  Ideal     G     SI2\n",
       "7945   Ideal     H     SI2\n",
       "39341   Good     H     SI1\n",
       "47409   Good     G     VS2\n",
       "48664  Ideal     G    VVS1"
      ]
     },
     "execution_count": 66,
     "metadata": {},
     "output_type": "execute_result"
    }
   ],
   "source": [
    "X_test_cat = X_test.select_dtypes(include=['object'])\n",
    "\n",
    "X_test_cat.head()"
   ]
  },
  {
   "cell_type": "code",
   "execution_count": 67,
   "metadata": {},
   "outputs": [],
   "source": [
    "X_test_catg = pd.DataFrame(enc.transform(X_test_cat), \n",
    "                                    columns = X_test_cat.columns, \n",
    "                                    index = X_test_cat.index)"
   ]
  },
  {
   "cell_type": "code",
   "execution_count": 68,
   "metadata": {},
   "outputs": [
    {
     "data": {
      "text/html": [
       "<div>\n",
       "<style scoped>\n",
       "    .dataframe tbody tr th:only-of-type {\n",
       "        vertical-align: middle;\n",
       "    }\n",
       "\n",
       "    .dataframe tbody tr th {\n",
       "        vertical-align: top;\n",
       "    }\n",
       "\n",
       "    .dataframe thead th {\n",
       "        text-align: right;\n",
       "    }\n",
       "</style>\n",
       "<table border=\"1\" class=\"dataframe\">\n",
       "  <thead>\n",
       "    <tr style=\"text-align: right;\">\n",
       "      <th></th>\n",
       "      <th>cut</th>\n",
       "      <th>color</th>\n",
       "      <th>clarity</th>\n",
       "    </tr>\n",
       "  </thead>\n",
       "  <tbody>\n",
       "    <tr>\n",
       "      <th>12983</th>\n",
       "      <td>2.0</td>\n",
       "      <td>3.0</td>\n",
       "      <td>3.0</td>\n",
       "    </tr>\n",
       "    <tr>\n",
       "      <th>7945</th>\n",
       "      <td>2.0</td>\n",
       "      <td>4.0</td>\n",
       "      <td>3.0</td>\n",
       "    </tr>\n",
       "    <tr>\n",
       "      <th>39341</th>\n",
       "      <td>1.0</td>\n",
       "      <td>4.0</td>\n",
       "      <td>2.0</td>\n",
       "    </tr>\n",
       "    <tr>\n",
       "      <th>47409</th>\n",
       "      <td>1.0</td>\n",
       "      <td>3.0</td>\n",
       "      <td>5.0</td>\n",
       "    </tr>\n",
       "    <tr>\n",
       "      <th>48664</th>\n",
       "      <td>2.0</td>\n",
       "      <td>3.0</td>\n",
       "      <td>6.0</td>\n",
       "    </tr>\n",
       "  </tbody>\n",
       "</table>\n",
       "</div>"
      ],
      "text/plain": [
       "       cut  color  clarity\n",
       "12983  2.0    3.0      3.0\n",
       "7945   2.0    4.0      3.0\n",
       "39341  1.0    4.0      2.0\n",
       "47409  1.0    3.0      5.0\n",
       "48664  2.0    3.0      6.0"
      ]
     },
     "execution_count": 68,
     "metadata": {},
     "output_type": "execute_result"
    }
   ],
   "source": [
    "X_test_catg.head()"
   ]
  },
  {
   "cell_type": "code",
   "execution_count": 69,
   "metadata": {},
   "outputs": [
    {
     "data": {
      "text/html": [
       "<div>\n",
       "<style scoped>\n",
       "    .dataframe tbody tr th:only-of-type {\n",
       "        vertical-align: middle;\n",
       "    }\n",
       "\n",
       "    .dataframe tbody tr th {\n",
       "        vertical-align: top;\n",
       "    }\n",
       "\n",
       "    .dataframe thead th {\n",
       "        text-align: right;\n",
       "    }\n",
       "</style>\n",
       "<table border=\"1\" class=\"dataframe\">\n",
       "  <thead>\n",
       "    <tr style=\"text-align: right;\">\n",
       "      <th></th>\n",
       "      <th>carat</th>\n",
       "      <th>depth</th>\n",
       "      <th>table</th>\n",
       "      <th>x</th>\n",
       "      <th>y</th>\n",
       "      <th>z</th>\n",
       "    </tr>\n",
       "  </thead>\n",
       "  <tbody>\n",
       "    <tr>\n",
       "      <th>12983</th>\n",
       "      <td>1.11</td>\n",
       "      <td>61.7</td>\n",
       "      <td>57.0</td>\n",
       "      <td>6.69</td>\n",
       "      <td>6.65</td>\n",
       "      <td>4.12</td>\n",
       "    </tr>\n",
       "    <tr>\n",
       "      <th>7945</th>\n",
       "      <td>1.02</td>\n",
       "      <td>60.7</td>\n",
       "      <td>57.0</td>\n",
       "      <td>6.51</td>\n",
       "      <td>6.54</td>\n",
       "      <td>3.96</td>\n",
       "    </tr>\n",
       "    <tr>\n",
       "      <th>39341</th>\n",
       "      <td>0.52</td>\n",
       "      <td>63.6</td>\n",
       "      <td>62.0</td>\n",
       "      <td>5.11</td>\n",
       "      <td>5.04</td>\n",
       "      <td>3.23</td>\n",
       "    </tr>\n",
       "    <tr>\n",
       "      <th>47409</th>\n",
       "      <td>0.62</td>\n",
       "      <td>61.0</td>\n",
       "      <td>62.0</td>\n",
       "      <td>5.41</td>\n",
       "      <td>5.50</td>\n",
       "      <td>3.33</td>\n",
       "    </tr>\n",
       "    <tr>\n",
       "      <th>48664</th>\n",
       "      <td>0.53</td>\n",
       "      <td>61.4</td>\n",
       "      <td>57.0</td>\n",
       "      <td>5.18</td>\n",
       "      <td>5.21</td>\n",
       "      <td>3.19</td>\n",
       "    </tr>\n",
       "  </tbody>\n",
       "</table>\n",
       "</div>"
      ],
      "text/plain": [
       "       carat  depth  table     x     y     z\n",
       "12983   1.11   61.7   57.0  6.69  6.65  4.12\n",
       "7945    1.02   60.7   57.0  6.51  6.54  3.96\n",
       "39341   0.52   63.6   62.0  5.11  5.04  3.23\n",
       "47409   0.62   61.0   62.0  5.41  5.50  3.33\n",
       "48664   0.53   61.4   57.0  5.18  5.21  3.19"
      ]
     },
     "execution_count": 69,
     "metadata": {},
     "output_type": "execute_result"
    }
   ],
   "source": [
    "X_test_num = X_test.select_dtypes(include=['int64', 'float64'])\n",
    "\n",
    "X_test_num.head()"
   ]
  },
  {
   "cell_type": "code",
   "execution_count": 70,
   "metadata": {},
   "outputs": [
    {
     "data": {
      "text/html": [
       "<div>\n",
       "<style scoped>\n",
       "    .dataframe tbody tr th:only-of-type {\n",
       "        vertical-align: middle;\n",
       "    }\n",
       "\n",
       "    .dataframe tbody tr th {\n",
       "        vertical-align: top;\n",
       "    }\n",
       "\n",
       "    .dataframe thead th {\n",
       "        text-align: right;\n",
       "    }\n",
       "</style>\n",
       "<table border=\"1\" class=\"dataframe\">\n",
       "  <thead>\n",
       "    <tr style=\"text-align: right;\">\n",
       "      <th></th>\n",
       "      <th>carat</th>\n",
       "      <th>depth</th>\n",
       "      <th>table</th>\n",
       "      <th>x</th>\n",
       "      <th>y</th>\n",
       "      <th>z</th>\n",
       "    </tr>\n",
       "  </thead>\n",
       "  <tbody>\n",
       "    <tr>\n",
       "      <th>12983</th>\n",
       "      <td>1.138175</td>\n",
       "      <td>-0.100286</td>\n",
       "      <td>-0.120214</td>\n",
       "      <td>1.212080</td>\n",
       "      <td>1.172523</td>\n",
       "      <td>1.182427</td>\n",
       "    </tr>\n",
       "    <tr>\n",
       "      <th>7945</th>\n",
       "      <td>0.889656</td>\n",
       "      <td>-1.028555</td>\n",
       "      <td>-0.120214</td>\n",
       "      <td>1.025502</td>\n",
       "      <td>1.057811</td>\n",
       "      <td>0.914632</td>\n",
       "    </tr>\n",
       "    <tr>\n",
       "      <th>39341</th>\n",
       "      <td>-0.491004</td>\n",
       "      <td>1.663426</td>\n",
       "      <td>2.363132</td>\n",
       "      <td>-0.425657</td>\n",
       "      <td>-0.506434</td>\n",
       "      <td>-0.307179</td>\n",
       "    </tr>\n",
       "    <tr>\n",
       "      <th>47409</th>\n",
       "      <td>-0.214872</td>\n",
       "      <td>-0.750074</td>\n",
       "      <td>2.363132</td>\n",
       "      <td>-0.114695</td>\n",
       "      <td>-0.026732</td>\n",
       "      <td>-0.139807</td>\n",
       "    </tr>\n",
       "    <tr>\n",
       "      <th>48664</th>\n",
       "      <td>-0.463391</td>\n",
       "      <td>-0.378766</td>\n",
       "      <td>-0.120214</td>\n",
       "      <td>-0.353099</td>\n",
       "      <td>-0.329153</td>\n",
       "      <td>-0.374127</td>\n",
       "    </tr>\n",
       "  </tbody>\n",
       "</table>\n",
       "</div>"
      ],
      "text/plain": [
       "          carat     depth     table         x         y         z\n",
       "12983  1.138175 -0.100286 -0.120214  1.212080  1.172523  1.182427\n",
       "7945   0.889656 -1.028555 -0.120214  1.025502  1.057811  0.914632\n",
       "39341 -0.491004  1.663426  2.363132 -0.425657 -0.506434 -0.307179\n",
       "47409 -0.214872 -0.750074  2.363132 -0.114695 -0.026732 -0.139807\n",
       "48664 -0.463391 -0.378766 -0.120214 -0.353099 -0.329153 -0.374127"
      ]
     },
     "execution_count": 70,
     "metadata": {},
     "output_type": "execute_result"
    }
   ],
   "source": [
    "X_test_no = pd.DataFrame(scaler.transform(X_test_num), \n",
    "                                    columns = X_test_num.columns, \n",
    "                                    index = X_test_num.index)\n",
    "\n",
    "X_test_no.head()"
   ]
  },
  {
   "cell_type": "markdown",
   "metadata": {},
   "source": [
    "### Concatenating Test Dataframe"
   ]
  },
  {
   "cell_type": "code",
   "execution_count": 71,
   "metadata": {
    "scrolled": true
   },
   "outputs": [
    {
     "data": {
      "text/html": [
       "<div>\n",
       "<style scoped>\n",
       "    .dataframe tbody tr th:only-of-type {\n",
       "        vertical-align: middle;\n",
       "    }\n",
       "\n",
       "    .dataframe tbody tr th {\n",
       "        vertical-align: top;\n",
       "    }\n",
       "\n",
       "    .dataframe thead th {\n",
       "        text-align: right;\n",
       "    }\n",
       "</style>\n",
       "<table border=\"1\" class=\"dataframe\">\n",
       "  <thead>\n",
       "    <tr style=\"text-align: right;\">\n",
       "      <th></th>\n",
       "      <th>cut</th>\n",
       "      <th>color</th>\n",
       "      <th>clarity</th>\n",
       "      <th>carat</th>\n",
       "      <th>depth</th>\n",
       "      <th>table</th>\n",
       "      <th>x</th>\n",
       "      <th>y</th>\n",
       "      <th>z</th>\n",
       "    </tr>\n",
       "  </thead>\n",
       "  <tbody>\n",
       "    <tr>\n",
       "      <th>12983</th>\n",
       "      <td>2.0</td>\n",
       "      <td>3.0</td>\n",
       "      <td>3.0</td>\n",
       "      <td>1.138175</td>\n",
       "      <td>-0.100286</td>\n",
       "      <td>-0.120214</td>\n",
       "      <td>1.212080</td>\n",
       "      <td>1.172523</td>\n",
       "      <td>1.182427</td>\n",
       "    </tr>\n",
       "    <tr>\n",
       "      <th>7945</th>\n",
       "      <td>2.0</td>\n",
       "      <td>4.0</td>\n",
       "      <td>3.0</td>\n",
       "      <td>0.889656</td>\n",
       "      <td>-1.028555</td>\n",
       "      <td>-0.120214</td>\n",
       "      <td>1.025502</td>\n",
       "      <td>1.057811</td>\n",
       "      <td>0.914632</td>\n",
       "    </tr>\n",
       "    <tr>\n",
       "      <th>39341</th>\n",
       "      <td>1.0</td>\n",
       "      <td>4.0</td>\n",
       "      <td>2.0</td>\n",
       "      <td>-0.491004</td>\n",
       "      <td>1.663426</td>\n",
       "      <td>2.363132</td>\n",
       "      <td>-0.425657</td>\n",
       "      <td>-0.506434</td>\n",
       "      <td>-0.307179</td>\n",
       "    </tr>\n",
       "    <tr>\n",
       "      <th>47409</th>\n",
       "      <td>1.0</td>\n",
       "      <td>3.0</td>\n",
       "      <td>5.0</td>\n",
       "      <td>-0.214872</td>\n",
       "      <td>-0.750074</td>\n",
       "      <td>2.363132</td>\n",
       "      <td>-0.114695</td>\n",
       "      <td>-0.026732</td>\n",
       "      <td>-0.139807</td>\n",
       "    </tr>\n",
       "    <tr>\n",
       "      <th>48664</th>\n",
       "      <td>2.0</td>\n",
       "      <td>3.0</td>\n",
       "      <td>6.0</td>\n",
       "      <td>-0.463391</td>\n",
       "      <td>-0.378766</td>\n",
       "      <td>-0.120214</td>\n",
       "      <td>-0.353099</td>\n",
       "      <td>-0.329153</td>\n",
       "      <td>-0.374127</td>\n",
       "    </tr>\n",
       "  </tbody>\n",
       "</table>\n",
       "</div>"
      ],
      "text/plain": [
       "       cut  color  clarity     carat     depth     table         x         y  \\\n",
       "12983  2.0    3.0      3.0  1.138175 -0.100286 -0.120214  1.212080  1.172523   \n",
       "7945   2.0    4.0      3.0  0.889656 -1.028555 -0.120214  1.025502  1.057811   \n",
       "39341  1.0    4.0      2.0 -0.491004  1.663426  2.363132 -0.425657 -0.506434   \n",
       "47409  1.0    3.0      5.0 -0.214872 -0.750074  2.363132 -0.114695 -0.026732   \n",
       "48664  2.0    3.0      6.0 -0.463391 -0.378766 -0.120214 -0.353099 -0.329153   \n",
       "\n",
       "              z  \n",
       "12983  1.182427  \n",
       "7945   0.914632  \n",
       "39341 -0.307179  \n",
       "47409 -0.139807  \n",
       "48664 -0.374127  "
      ]
     },
     "execution_count": 71,
     "metadata": {},
     "output_type": "execute_result"
    }
   ],
   "source": [
    "X_test_rescaled = pd.concat([X_test_catg,X_test_no], axis=1)\n",
    "\n",
    "X_test_rescaled.head()"
   ]
  },
  {
   "cell_type": "markdown",
   "metadata": {},
   "source": [
    "### Model Training"
   ]
  },
  {
   "cell_type": "code",
   "execution_count": 75,
   "metadata": {},
   "outputs": [],
   "source": [
    "import mlflow"
   ]
  },
  {
   "cell_type": "code",
   "execution_count": 76,
   "metadata": {},
   "outputs": [
    {
     "name": "stderr",
     "output_type": "stream",
     "text": [
      "2022/09/21 19:10:05 INFO mlflow.tracking.fluent: Experiment with name 'Prediction of Diamond Price' does not exist. Creating a new experiment.\n"
     ]
    },
    {
     "data": {
      "text/plain": [
       "<Experiment: artifact_location='./mlruns/2', creation_time=1663767605365, experiment_id='2', last_update_time=1663767605365, lifecycle_stage='active', name='Prediction of Diamond Price', tags={}>"
      ]
     },
     "execution_count": 76,
     "metadata": {},
     "output_type": "execute_result"
    }
   ],
   "source": [
    "mlflow.set_tracking_uri(\"sqlite:///mlflow.db\")\n",
    "\n",
    "mlflow.set_experiment(\"Prediction of Diamond Price\")"
   ]
  },
  {
   "cell_type": "code",
   "execution_count": 77,
   "metadata": {},
   "outputs": [],
   "source": [
    "from sklearn import metrics"
   ]
  },
  {
   "cell_type": "code",
   "execution_count": 78,
   "metadata": {},
   "outputs": [],
   "source": [
    "from pickle import dump"
   ]
  },
  {
   "cell_type": "code",
   "execution_count": 79,
   "metadata": {},
   "outputs": [],
   "source": [
    "from pickle import dump\n",
    "\n",
    "dump(scaler, open('pickle_files/standard_scaler.pkl', 'wb'))"
   ]
  },
  {
   "cell_type": "markdown",
   "metadata": {},
   "source": [
    "## Random Forest"
   ]
  },
  {
   "cell_type": "code",
   "execution_count": 80,
   "metadata": {},
   "outputs": [],
   "source": [
    "from sklearn.ensemble import RandomForestRegressor\n",
    "\n",
    "with mlflow.start_run():\n",
    "    mlflow.set_tag('dev', 'Omkar')\n",
    "    mlflow.set_tag('algo', 'Random Forest')\n",
    "    mlflow.log_param('data-path', 'data/diamonds.csv')\n",
    "    \n",
    "    rf_regressor = RandomForestRegressor()\n",
    "    rf_regressor.fit(X_train_rescaled, y_train)\n",
    "    \n",
    "    y_test_pred = rf_regressor.predict(X_test_rescaled)\n",
    "    \n",
    "#     acc = metrics.accuracy_score(y_test, y_test_pred)\n",
    "#     mlflow.log_metric('accuracy', acc)\n",
    "    mae = metrics.mean_absolute_error(y_test, y_test_pred)\n",
    "    mse = metrics.mean_squared_error(y_test, y_test_pred)\n",
    "    msqe = np.sqrt(metrics.mean_squared_error(y_test, y_test_pred))\n",
    "    \n",
    "    mlflow.log_metric('mean_ab_error', mae)\n",
    "    mlflow.log_metric('mean_sqr_error', mse)\n",
    "    mlflow.log_metric('mean_srt_error', msqe)\n",
    "    \n",
    "    mlflow.sklearn.log_model(rf_regressor, artifact_path='models')\n",
    "    mlflow.log_artifact('pickle_files/standard_scaler.pkl')"
   ]
  },
  {
   "cell_type": "code",
   "execution_count": null,
   "metadata": {},
   "outputs": [],
   "source": [
    "from sklearn import metrics\n",
    "\n",
    "print('Mean Absolute Error: ', metrics.mean_absolute_error(y_test, y_test_pred))\n",
    "\n",
    "print('Mean Squared Error: ', metrics.mean_squared_error(y_test, y_test_pred))\n",
    "\n",
    "print('Root Mean Squared Error: ', np.sqrt(metrics.mean_squared_error(y_test, y_test_pred)))"
   ]
  },
  {
   "cell_type": "markdown",
   "metadata": {},
   "source": [
    "## Decision Tree Regression"
   ]
  },
  {
   "cell_type": "code",
   "execution_count": 81,
   "metadata": {},
   "outputs": [],
   "source": [
    "from sklearn.tree import DecisionTreeRegressor\n",
    "\n",
    "with mlflow.start_run():\n",
    "    mlflow.set_tag('dev', 'Omkar')\n",
    "    mlflow.set_tag('algo', 'Decision Tree')\n",
    "    mlflow.log_param('data-path', 'data/diamonds.csv')\n",
    "\n",
    "    dt_regressor = DecisionTreeRegressor()\n",
    "    dt_regressor.fit(X_train_rescaled, y_train)\n",
    "\n",
    "    y_test_pred = dt_regressor.predict(X_test_rescaled)\n",
    "    \n",
    "    mae = metrics.mean_absolute_error(y_test, y_test_pred)\n",
    "    mse = metrics.mean_squared_error(y_test, y_test_pred)\n",
    "    msqe = np.sqrt(metrics.mean_squared_error(y_test, y_test_pred))\n",
    "    \n",
    "    mlflow.log_metric('mean_ab_error', mae)\n",
    "    mlflow.log_metric('mean_sqr_error', mse)\n",
    "    mlflow.log_metric('mean_srt_error', msqe)\n",
    "    \n",
    "    mlflow.sklearn.log_model(dt_regressor, artifact_path='models')\n",
    "    mlflow.log_artifact('pickle_files/standard_scaler.pkl')"
   ]
  },
  {
   "cell_type": "code",
   "execution_count": null,
   "metadata": {},
   "outputs": [],
   "source": [
    "from sklearn import metrics\n",
    "\n",
    "print('Mean Absolute Error: ', metrics.mean_absolute_error(y_test, y_test_pred))\n",
    "\n",
    "print('Mean Squared Error: ', metrics.mean_squared_error(y_test, y_test_pred))\n",
    "\n",
    "print('Root Mean Squared Error: ', np.sqrt(metrics.mean_squared_error(y_test, y_test_pred)))"
   ]
  },
  {
   "cell_type": "markdown",
   "metadata": {},
   "source": [
    "## Gradient Boosting Regression"
   ]
  },
  {
   "cell_type": "code",
   "execution_count": 82,
   "metadata": {},
   "outputs": [],
   "source": [
    "from sklearn.ensemble import GradientBoostingRegressor\n",
    "\n",
    "with mlflow.start_run():\n",
    "    mlflow.set_tag('dev', 'Omkar')\n",
    "    mlflow.set_tag('algo', 'Gradient Boosting')\n",
    "    mlflow.log_param('data-path', 'data/diamonds.csv')\n",
    "\n",
    "    gbr_regressor = GradientBoostingRegressor()\n",
    "    gbr_regressor.fit(X_train_rescaled, y_train)\n",
    "    \n",
    "    y_test_pred = dt_regressor.predict(X_test_rescaled)\n",
    "    \n",
    "    mae = metrics.mean_absolute_error(y_test, y_test_pred)\n",
    "    mse = metrics.mean_squared_error(y_test, y_test_pred)\n",
    "    msqe = np.sqrt(metrics.mean_squared_error(y_test, y_test_pred))\n",
    "    \n",
    "    mlflow.log_metric('mean_ab_error', mae)\n",
    "    mlflow.log_metric('mean_sqr_error', mse)\n",
    "    mlflow.log_metric('mean_srt_error', msqe)\n",
    "    \n",
    "    mlflow.sklearn.log_model(gbr_regressor, artifact_path='models')\n",
    "    mlflow.log_artifact('pickle_files/standard_scaler.pkl')"
   ]
  },
  {
   "cell_type": "code",
   "execution_count": null,
   "metadata": {},
   "outputs": [],
   "source": [
    "y_test_pred = gbr_regressor.predict(X_test_rescaled)"
   ]
  },
  {
   "cell_type": "code",
   "execution_count": 84,
   "metadata": {},
   "outputs": [
    {
     "name": "stdout",
     "output_type": "stream",
     "text": [
      "Mean Absolute Error:  247.77424880747247\n",
      "Mean Squared Error:  167255.81962013603\n",
      "Root Mean Squared Error:  408.96921598102716\n"
     ]
    }
   ],
   "source": [
    "from sklearn import metrics\n",
    "\n",
    "print('Mean Absolute Error: ', metrics.mean_absolute_error(y_test, y_test_pred))\n",
    "\n",
    "print('Mean Squared Error: ', metrics.mean_squared_error(y_test, y_test_pred))\n",
    "\n",
    "print('Root Mean Squared Error: ', np.sqrt(metrics.mean_squared_error(y_test, y_test_pred)))"
   ]
  },
  {
   "cell_type": "markdown",
   "metadata": {},
   "source": [
    "## Saving the model (Serialization)"
   ]
  },
  {
   "cell_type": "code",
   "execution_count": 181,
   "metadata": {},
   "outputs": [],
   "source": [
    "from pickle import dump\n",
    "dump(enc,open('models/ordinal_encoder.pkl','wb'))\n",
    "dump(scaler, open('models/Standard_scaler.pkl', 'wb'))\n",
    "dump(rf_regressor, open('models/rf_regressor.pkl', 'wb'))"
   ]
  },
  {
   "cell_type": "markdown",
   "metadata": {},
   "source": [
    "Loading back model to check its working or not"
   ]
  },
  {
   "cell_type": "code",
   "execution_count": 182,
   "metadata": {},
   "outputs": [],
   "source": [
    "from pickle import load\n",
    "\n",
    "\n",
    "# Loading pretrained models from pickle file\n",
    "enc=load(open('models/ordinal_encoder.pkl','rb'))\n",
    "scaler = load(open('models/standard_scaler.pkl', 'rb'))\n",
    "rf_regressor=load(open('models/rf_regressor.pkl','rb'))"
   ]
  },
  {
   "cell_type": "code",
   "execution_count": 194,
   "metadata": {},
   "outputs": [
    {
     "name": "stdout",
     "output_type": "stream",
     "text": [
      "enter diamond details\n",
      "Ideal\n",
      "E\n",
      "SI2\n",
      "0.23\n",
      "61.5\n",
      "55\n",
      "3.95\n",
      "3.98\n",
      "2.43\n"
     ]
    }
   ],
   "source": [
    "print('enter diamond details')\n",
    "cut=input()\n",
    "color=input()\n",
    "clarity=input()\n",
    "carat=float(input())\n",
    "depth=float(input())\n",
    "table=float(input())\n",
    "x = float(input())\n",
    "y = float(input())\n",
    "z = float(input())"
   ]
  },
  {
   "cell_type": "code",
   "execution_count": 195,
   "metadata": {},
   "outputs": [],
   "source": [
    "query_num = pd.DataFrame({'carat':[carat], 'depth':[depth],'table':[table],'x':[x],'y':[y],'z':[z]})\n",
    "query_cat = pd.DataFrame({'cut':[cut], 'color':[color], 'clarity':[clarity]})   "
   ]
  },
  {
   "cell_type": "code",
   "execution_count": 196,
   "metadata": {},
   "outputs": [],
   "source": [
    "query_cat = enc.transform(query_cat)"
   ]
  },
  {
   "cell_type": "code",
   "execution_count": 197,
   "metadata": {},
   "outputs": [],
   "source": [
    "query_num = scaler.transform(query_num)"
   ]
  },
  {
   "cell_type": "code",
   "execution_count": 198,
   "metadata": {},
   "outputs": [],
   "source": [
    "query_point = pd.concat([pd.DataFrame(query_num), pd.DataFrame(query_cat)], axis=1)\n",
    "price = dt_regressor.predict(query_point)\n",
    "        "
   ]
  },
  {
   "cell_type": "code",
   "execution_count": 199,
   "metadata": {},
   "outputs": [
    {
     "name": "stdout",
     "output_type": "stream",
     "text": [
      "The price of Selected Diamond is $ 2170.0\n"
     ]
    }
   ],
   "source": [
    "print(f\"The price of Selected Diamond is $ {round(price[0],2)}\")"
   ]
  }
 ],
 "metadata": {
  "colab": {
   "collapsed_sections": [],
   "provenance": []
  },
  "kernelspec": {
   "display_name": "Python 3 (ipykernel)",
   "language": "python",
   "name": "python3"
  },
  "language_info": {
   "codemirror_mode": {
    "name": "ipython",
    "version": 3
   },
   "file_extension": ".py",
   "mimetype": "text/x-python",
   "name": "python",
   "nbconvert_exporter": "python",
   "pygments_lexer": "ipython3",
   "version": "3.9.7"
  },
  "vscode": {
   "interpreter": {
    "hash": "5ecbc4ffe9acfe3ee38388cdddcb2029e0e73612aaf33757a9bd50a5c08e4ee1"
   }
  }
 },
 "nbformat": 4,
 "nbformat_minor": 1
}
